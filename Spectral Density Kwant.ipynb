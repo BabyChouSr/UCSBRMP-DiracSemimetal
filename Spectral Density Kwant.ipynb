{
 "cells": [
  {
   "cell_type": "code",
   "execution_count": 1,
   "metadata": {},
   "outputs": [],
   "source": [
    "import kwant\n",
    "import kwant.continuum\n",
    "import numpy as np\n",
    "import sympy\n",
    "import matplotlib.pyplot as plt\n",
    "from sympy import *\n",
    "from ipywidgets import interact, interactive, fixed, interact_manual\n",
    "import ipywidgets as widgets\n",
    "import scipy\n",
    "import warnings\n",
    "warnings.filterwarnings('ignore')\n",
    "%matplotlib inline"
   ]
  },
  {
   "cell_type": "markdown",
   "metadata": {},
   "source": [
    "## Description of Code\n",
    "\n",
    "$$n(E) = \\int \\rho(E)F(E) dE$$\n",
    "where $n(E)$ is the total number of states filled, $\\rho(E)$ is the density of states, $F(E)$ is the Fermi Function\n",
    "\n",
    "We take the system *syst* to be made from the template by discretizing the continuous Hamiltonian. We take the system to be of the dimensions $25 \\times 25$.\n",
    "\n",
    "We then first plot for a range of temperatures (0 to 50) at Magnetic Field B = 0, $\\Delta i = 0$, and $\\Delta h = 0$ the number of states filled.\n",
    "\n",
    "After that, we plot for a range of magnetic field values, namely (-5 to 5), for a temperature value of 0.2K.\n",
    "\n",
    "The Code works by using the Kernel-Polynomial Method to obtain the spectral density of the system which was previously made from the Dirac Hamiltonian. Then, we take the fermi function to be $$F(E) = \\frac{1}{e^{(E - E_f) / kT} + 1}$$ and we utilize the spectrum.integrate function to sum up all possible density of states to finally obtain the total number of states occupied."
   ]
  },
  {
   "cell_type": "code",
   "execution_count": 2,
   "metadata": {},
   "outputs": [],
   "source": [
    "'''\n",
    "Function: Solving for n vs. B where n is the carrier density \n",
    "n(E) = integral of D(E)F(E) where D is the density of states and F is the fermi function\n",
    "'''\n",
    "def plotnvst(inv = 0, deltaH = 0):\n",
    "    def make_syst(a=1):\n",
    "        hamiltonian = '''\n",
    "                        h * v_f * Matrix(BlockMatrix([ [ sigma_x * k_y - k_x * sigma_y , zeros(2)], [zeros(2), -1 * (sigma_x * k_y - k_x * sigma_y)] ])) \n",
    "                        + Matrix([[inv, 0,0,0] , [0, invconj, 0 , 0 ] , [ 0, 0, -inv, 0] , [0 , 0 , 0, negInvConj]] )\n",
    "                        + Matrix([[0, 0,0,deltaH] , [0,0  ,conjH , 0 ] , [ 0, deltaH, 0, 0] , [conjH, 0 ,0, 0]] )\n",
    "                        + Matrix(BlockMatrix( [ [g * mu * B * sigma_z, zeros(2)], [zeros(2), g * mu * B * sigma_z]]))\n",
    "                        '''\n",
    "        template = kwant.continuum.discretize(hamiltonian, grid=a)\n",
    "        L, W = 25,25\n",
    "\n",
    "        def shape(site):\n",
    "            (x, y) = site.pos\n",
    "            return (0 <= y < W and 0 <= x < L)\n",
    "\n",
    "        syst = kwant.Builder()\n",
    "        syst.fill(template, shape, (0, 0))\n",
    "\n",
    "        syst.eradicate_dangling()\n",
    "\n",
    "        return syst\n",
    "\n",
    "    numStates = []\n",
    "\n",
    "    inv = inv\n",
    "    invconj = conjugate(inv)\n",
    "    negInvConj = conjugate(-inv)\n",
    "\n",
    "    h = 1\n",
    "    deltaH = deltaH\n",
    "    conjH = conjugate(deltaH)\n",
    "    v_f = 1\n",
    "\n",
    "    g = 1\n",
    "    mu = 1\n",
    "    b_values = np.linspace(-5,5, 25)\n",
    "    temps = np.linspace(0,50,50)\n",
    "    for t in temps:\n",
    "        syst = make_syst().finalized()\n",
    "        params = dict(v_f = v_f, h =h, inv = inv, invconj = invconj, negInvConj = negInvConj,conjH = conjH, deltaH = deltaH, g =g , mu = mu, B = 0)\n",
    "        spectrum = kwant.kpm.SpectralDensity(syst,params)\n",
    "        #energies, densities = spectrum()\n",
    "        fermi = lambda E: 1 / (np.exp((E - 0.1) / t) + 1)\n",
    "        numStates.append(spectrum.integrate(fermi))\n",
    "\n",
    "    plt.plot(temps, numStates)\n",
    "    plt.xlabel(\"Temperature (K)\")\n",
    "    plt.ylabel(\"# of Filled States\")\n",
    "    plt.title(\"Total Number of Filled States vs. Temperature\")"
   ]
  },
  {
   "cell_type": "code",
   "execution_count": 3,
   "metadata": {},
   "outputs": [
    {
     "data": {
      "application/vnd.jupyter.widget-view+json": {
       "model_id": "9ccbbff301354b8a92c52130f1cfc962",
       "version_major": 2,
       "version_minor": 0
      },
      "text/plain": [
       "interactive(children=(FloatSlider(value=0.0, description='inv', max=5.0, step=0.05), FloatSlider(value=0.0, de…"
      ]
     },
     "metadata": {},
     "output_type": "display_data"
    }
   ],
   "source": [
    "interactive_plot = interactive(plotnvst, inv = (0,5,0.05), deltaH = (0,5,0.05))\n",
    "output = interactive_plot.children[-1]\n",
    "interactive_plot"
   ]
  },
  {
   "cell_type": "code",
   "execution_count": 8,
   "metadata": {},
   "outputs": [],
   "source": [
    "'''\n",
    "Function: Solving for n vs. B where n is the carrier density \n",
    "n(E) = integral of D(E)F(E) where D is the density of states and F is the fermi function\n",
    "'''\n",
    "\n",
    "def plotnvsb(inv = 0, deltaH = 0):\n",
    "    def make_syst(a=1):\n",
    "        hamiltonian = '''\n",
    "                        h * v_f * Matrix(BlockMatrix([ [ sigma_x * k_y - k_x * sigma_y , zeros(2)], [zeros(2), -1 * (sigma_x * k_y - k_x * sigma_y)] ])) \n",
    "                        + Matrix([[inv, 0,0,0] , [0, invconj, 0 , 0 ] , [ 0, 0, -inv, 0] , [0 , 0 , 0, negInvConj]] )\n",
    "                        + Matrix([[0, 0,0,deltaH] , [0,0  ,conjH , 0 ] , [ 0, deltaH, 0, 0] , [conjH, 0 ,0, 0]] )\n",
    "                        + Matrix(BlockMatrix( [ [g * mu * B * sigma_z, zeros(2)], [zeros(2), g * mu * B * sigma_z]]))\n",
    "                        '''\n",
    "        template = kwant.continuum.discretize(hamiltonian, grid=a)\n",
    "        L, W = 25,25\n",
    "\n",
    "        def shape(site):\n",
    "            (x, y) = site.pos\n",
    "            return (0 <= y < W and 0 <= x < L)\n",
    "\n",
    "        syst = kwant.Builder()\n",
    "        syst.fill(template, shape, (0, 0))\n",
    "\n",
    "        syst.eradicate_dangling()\n",
    "\n",
    "        return syst\n",
    "\n",
    "    numStates = []\n",
    "\n",
    "    inv = inv\n",
    "    invconj = conjugate(inv)\n",
    "    negInvConj = conjugate(-inv)\n",
    "\n",
    "    h = 1\n",
    "    deltaH = deltaH\n",
    "    conjH = conjugate(deltaH)\n",
    "    v_f = 1\n",
    "\n",
    "    g = 1\n",
    "    mu = 1\n",
    "    b_values = np.linspace(-5,5, 10)\n",
    "    temps = np.linspace(0,50,50)\n",
    "    for B in b_values:\n",
    "        syst = make_syst().finalized()\n",
    "        params = dict(v_f = v_f, h =h, inv = inv, invconj = invconj, negInvConj = negInvConj,conjH = conjH, deltaH = deltaH, g =g , mu = mu, B = B)\n",
    "        spectrum = kwant.kpm.SpectralDensity(syst,params)\n",
    "        energies, densities = spectrum()\n",
    "        fermi = lambda E: 1 / (np.exp((E - 0.003) / 0.2) + 1)\n",
    "        numStates.append(spectrum.integrate(fermi)) \n",
    "    params = dict(v_f = v_f, h =h, inv = inv, invconj = invconj, negInvConj = negInvConj,conjH = conjH, deltaH = deltaH, g =g , mu = mu, B = 0)\n",
    "    fsyst_staggered = make_syst().finalized()\n",
    "    # find 'A' and 'B' sites in the unit cell at the center of the disk\n",
    "    #center_tag = np.array([0, 0])\n",
    "    #where = lambda s: s.tag == center_tag\n",
    "    # make local vectors\n",
    "    #vector_factory = kwant.kpm.LocalVectors(fsyst_staggered, where)\n",
    "    #local_dos = kwant.kpm.SpectralDensity(fsyst_staggered, num_vectors=None,\n",
    "                                      #vector_factory=vector_factory,\n",
    "                                      #params = params,\n",
    "                                      #mean=False,\n",
    "                                      #rng=0)\n",
    "   # energies, densities = local_dos()\n",
    "    #plt.plot(energies, densities[:,0])\n",
    "    #plt.plot(energies, densities[:,1])\n",
    "    plt.plot(b_values, numStates)\n",
    "    plt.xlabel(\"Energy\")\n",
    "    plt.ylabel(\"Density of States\")\n",
    "    plt.title(\"Density of States vs. Magnetic Field at 0.2K\")\n",
    "    plt.show()"
   ]
  },
  {
   "cell_type": "code",
   "execution_count": 9,
   "metadata": {},
   "outputs": [
    {
     "data": {
      "application/vnd.jupyter.widget-view+json": {
       "model_id": "f9de2bbe4fe84335bdae3a0f54e50814",
       "version_major": 2,
       "version_minor": 0
      },
      "text/plain": [
       "interactive(children=(FloatSlider(value=0.0, description='inv', max=5.0, step=0.05), FloatSlider(value=0.0, de…"
      ]
     },
     "metadata": {},
     "output_type": "display_data"
    }
   ],
   "source": [
    "interactive_plot = interactive(plotnvsb, inv = (0,5,0.05), deltaH = (0,5,0.05))\n",
    "output = interactive_plot.children[-1]\n",
    "interactive_plot"
   ]
  },
  {
   "cell_type": "code",
   "execution_count": null,
   "metadata": {},
   "outputs": [],
   "source": []
  }
 ],
 "metadata": {
  "kernelspec": {
   "display_name": "Python 3",
   "language": "python",
   "name": "python3"
  },
  "language_info": {
   "codemirror_mode": {
    "name": "ipython",
    "version": 3
   },
   "file_extension": ".py",
   "mimetype": "text/x-python",
   "name": "python",
   "nbconvert_exporter": "python",
   "pygments_lexer": "ipython3",
   "version": "3.7.6"
  }
 },
 "nbformat": 4,
 "nbformat_minor": 4
}
